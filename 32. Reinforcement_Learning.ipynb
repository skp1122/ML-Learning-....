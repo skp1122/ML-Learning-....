{
 "cells": [
  {
   "cell_type": "markdown",
   "metadata": {},
   "source": [
    "## Reinforcement Learning \n",
    "**Some Common Terms**:\n",
    "- Agent\n",
    "- Environment\n",
    "- Action, Rewards, Observations"
   ]
  },
  {
   "cell_type": "markdown",
   "metadata": {},
   "source": [
    "## Working on OpenAI Gym \n",
    "##### 1. Interacting with the Gym API"
   ]
  },
  {
   "cell_type": "code",
   "execution_count": 1,
   "metadata": {},
   "outputs": [],
   "source": [
    "#!pip install gym"
   ]
  },
  {
   "cell_type": "code",
   "execution_count": 2,
   "metadata": {},
   "outputs": [],
   "source": [
    "import gym"
   ]
  },
  {
   "cell_type": "code",
   "execution_count": 3,
   "metadata": {},
   "outputs": [],
   "source": [
    "# Create Environment\n",
    "\n",
    "env = gym.make('CartPole-v0')"
   ]
  },
  {
   "cell_type": "markdown",
   "metadata": {},
   "source": [
    "##### Comes with certain important method and attributes:\n",
    "- action_space\n",
    "- observation_space\n",
    "- reset() : returns initial state and also resets the environment\n",
    "- step()\n",
    "- render()"
   ]
  },
  {
   "cell_type": "code",
   "execution_count": 4,
   "metadata": {},
   "outputs": [
    {
     "data": {
      "text/plain": [
       "array([-0.03425547, -0.00488432,  0.00026142, -0.03037539])"
      ]
     },
     "execution_count": 4,
     "metadata": {},
     "output_type": "execute_result"
    }
   ],
   "source": [
    "# Initial state of game\n",
    "env.reset()"
   ]
  },
  {
   "cell_type": "code",
   "execution_count": 16,
   "metadata": {},
   "outputs": [
    {
     "name": "stderr",
     "output_type": "stream",
     "text": [
      "C:\\Users\\HP\\anaconda3\\lib\\site-packages\\gym\\logger.py:30: UserWarning: \u001b[33mWARN: You are calling 'step()' even though this environment has already returned done = True. You should always call 'reset()' once you receive 'done = True' -- any further steps are undefined behavior.\u001b[0m\n",
      "  warnings.warn(colorize('%s: %s'%('WARN', msg % args), 'yellow'))\n"
     ]
    }
   ],
   "source": [
    "for t in range(1000):\n",
    "    env.step(env.action_space.sample()) # taking random action\n",
    "    env.render()\n",
    "    \n",
    "env.close()"
   ]
  },
  {
   "cell_type": "code",
   "execution_count": 10,
   "metadata": {},
   "outputs": [
    {
     "data": {
      "text/plain": [
       "Discrete(2)"
      ]
     },
     "execution_count": 10,
     "metadata": {},
     "output_type": "execute_result"
    }
   ],
   "source": [
    "env.action_space"
   ]
  },
  {
   "cell_type": "code",
   "execution_count": 11,
   "metadata": {},
   "outputs": [
    {
     "data": {
      "text/plain": [
       "2"
      ]
     },
     "execution_count": 11,
     "metadata": {},
     "output_type": "execute_result"
    }
   ],
   "source": [
    "env.action_space.n"
   ]
  },
  {
   "cell_type": "code",
   "execution_count": 12,
   "metadata": {},
   "outputs": [
    {
     "data": {
      "text/plain": [
       "Box(-3.4028234663852886e+38, 3.4028234663852886e+38, (4,), float32)"
      ]
     },
     "execution_count": 12,
     "metadata": {},
     "output_type": "execute_result"
    }
   ],
   "source": [
    "env.observation_space"
   ]
  },
  {
   "cell_type": "code",
   "execution_count": 17,
   "metadata": {},
   "outputs": [
    {
     "data": {
      "text/plain": [
       "4"
      ]
     },
     "execution_count": 17,
     "metadata": {},
     "output_type": "execute_result"
    }
   ],
   "source": [
    "env.observation_space.shape[0]"
   ]
  },
  {
   "cell_type": "code",
   "execution_count": 15,
   "metadata": {},
   "outputs": [
    {
     "data": {
      "text/plain": [
       "gym.spaces.box.Box"
      ]
     },
     "execution_count": 15,
     "metadata": {},
     "output_type": "execute_result"
    }
   ],
   "source": [
    "type(env.observation_space)"
   ]
  },
  {
   "cell_type": "code",
   "execution_count": 18,
   "metadata": {},
   "outputs": [],
   "source": [
    "for t in range(1000):\n",
    "    random_action = env.action_space.sample()\n",
    "    env.step(random_action) # randomly move left or right\n",
    "    env.render()\n",
    "    \n",
    "env.close()"
   ]
  },
  {
   "cell_type": "markdown",
   "metadata": {},
   "source": [
    "##### 2. Playing Games with a Random Strategy\n",
    "- Game Episode\n",
    "- Step() Funtion in More Detail\n",
    "- Game Over?"
   ]
  },
  {
   "cell_type": "code",
   "execution_count": 22,
   "metadata": {},
   "outputs": [
    {
     "name": "stdout",
     "output_type": "stream",
     "text": [
      "Game Episode : 0/20 High Score :14\n",
      "Game Episode : 1/20 High Score :40\n",
      "Game Episode : 2/20 High Score :18\n",
      "Game Episode : 3/20 High Score :23\n",
      "Game Episode : 4/20 High Score :20\n",
      "Game Episode : 5/20 High Score :14\n",
      "Game Episode : 6/20 High Score :10\n",
      "Game Episode : 7/20 High Score :9\n",
      "Game Episode : 8/20 High Score :21\n",
      "Game Episode : 9/20 High Score :33\n",
      "Game Episode : 10/20 High Score :13\n",
      "Game Episode : 11/20 High Score :11\n",
      "Game Episode : 12/20 High Score :24\n",
      "Game Episode : 13/20 High Score :18\n",
      "Game Episode : 14/20 High Score :18\n",
      "Game Episode : 15/20 High Score :19\n",
      "Game Episode : 16/20 High Score :15\n",
      "Game Episode : 17/20 High Score :22\n",
      "Game Episode : 18/20 High Score :27\n",
      "Game Episode : 19/20 High Score :26\n",
      "All 20 episodes over!\n"
     ]
    }
   ],
   "source": [
    "for e in range(20):\n",
    "    # Play 20 episodes\n",
    "    observation = env.reset()\n",
    "    for t in range(50):\n",
    "        env.render()\n",
    "        action = env.action_space.sample()\n",
    "        # step returns four things when it is taken\n",
    "        observation,reward,done,other_info = env.step(action)\n",
    "        \n",
    "        if done: # if done true then game is over\n",
    "            # Game Episode is over\n",
    "            print(\"Game Episode : {}/{} High Score :{}\".format(e,20,t))\n",
    "            break;\n",
    "            \n",
    "env.close()\n",
    "print(\"All 20 episodes over!\")"
   ]
  },
  {
   "cell_type": "markdown",
   "metadata": {},
   "source": [
    "### 3. Q-Learning\n",
    "#### Agent Design and Neural Model"
   ]
  },
  {
   "cell_type": "code",
   "execution_count": null,
   "metadata": {},
   "outputs": [],
   "source": [
    "\"\"\"\n",
    "Bellman equation:-\n",
    "   Q(s,a) = r + r*max(Q(s',a'))  ; r = hyper parameter which belongs to (0,1)\n",
    "\"\"\""
   ]
  },
  {
   "cell_type": "code",
   "execution_count": null,
   "metadata": {},
   "outputs": [],
   "source": [
    "import numpy as np\n",
    "import matplotlib.pyplot as plt\n",
    "import os \n",
    "from collections import deque\n",
    "from keras.models import Sequential\n",
    "from keras.layers import Dense\n",
    "from keras.optimizers import Adam\n",
    "import random\n",
    "%matplotlib inline"
   ]
  },
  {
   "cell_type": "code",
   "execution_count": null,
   "metadata": {},
   "outputs": [],
   "source": [
    "Class Agent:\n",
    "    def __init__(self,state_size,action_size):\n",
    "        self.state_size = state_size\n",
    "        self.action_size = action_size\n",
    "        self.memory = deque(maxlen=2000)\n",
    "        self.gamma = 0.95 # Discount factor\n",
    "        # Exploration vs Exploitation Tradeoff\n",
    "        # Exploration : Good in the begining --> helps you to try various random things\n",
    "        # Exploitation : Sample Good experience from the past(memory) --> good in the end\n",
    "        self.epsilon = 1.0 # 100% Random Exploration in the begining (Epsilon Greedy Method)\n",
    "        self.epsilon_decay = 0.995\n",
    "        self.epsilon_min = 0.01\n",
    "        self.learning_rate = 0.001\n",
    "        self.model = self._create_model()\n",
    "        \n",
    "    def _create_model(self):\n",
    "        model = Sequential()\n",
    "        model.add(Dense(24,input_dim=4,activation='relu'))\n",
    "        model.add(Dense(24,activation='relu'))\n",
    "        model.add(Dense(2,activation='linear'))\n",
    "        model.compile(loss='mse',optimizer=Adam(lr=0.001))\n",
    "        #model.summary()\n",
    "        return model\n",
    "   \n",
    "    def remember(self,state,action,reward,next_state,done):\n",
    "        # Remember past experience\n",
    "        self.memory.append((state,action,reward,next_state,done))\n",
    "        \n",
    "    def act(self,state):\n",
    "        # Epsilon Greedy Method\n",
    "        if np.random.rand() <= self.epsilon():\n",
    "            # Take a random action\n",
    "            return random.randrange(self.action_size)\n",
    "        \n",
    "        # Ask neural network to give me the suitabel action\n",
    "        return np.argmax(model.predict(state)[0])\n",
    "            \n",
    "    def train(self,batch_size=32):\n",
    "        # Training using a 'Replay Buffer'\n",
    "        minibatch = random.sample(self.memory,batch_size)\n",
    "        for experience in minibatch:\n",
    "            state,action,reward,next_state,done = experience\n",
    "            # X,Y : state, expected reward\n",
    "            \n",
    "            if not done:\n",
    "                # Game is not yet over, bellman eqn to apprx the target_value of reward\n",
    "                target = reward + self.gamma*np.argmax(self.model.predict(next_state)[0])\n",
    "            else:\n",
    "                target = reward\n",
    "                \n",
    "            target_f = self.model.predict(state)\n",
    "            target_f[0][action] = target\n",
    "            \n",
    "            #X = state , Y = target_f\n",
    "            self.model.fit(state,target_f,epochs=1,verbose=0)\n",
    "            \n",
    "        if self.epsilon > self.epsilon_min:\n",
    "            self.epsilon *= self.epsilon_decay  # after gaining more experience , trust experience than randomness\n",
    "            \n",
    "            \n",
    "    def load(self,name):\n",
    "        self.model.load_weights(name)\n",
    "        \n",
    "    def save(self,name):\n",
    "        self.model.save_weights(name)\n",
    "            "
   ]
  },
  {
   "cell_type": "markdown",
   "metadata": {},
   "source": [
    "#### Training the DQN Agent (Deep Q-Learner)"
   ]
  },
  {
   "cell_type": "code",
   "execution_count": 23,
   "metadata": {},
   "outputs": [],
   "source": [
    "n_episodes = 1000\n",
    "output_dir = \"carpole_model/\""
   ]
  },
  {
   "cell_type": "code",
   "execution_count": null,
   "metadata": {},
   "outputs": [],
   "source": [
    "agent = Agent(state_size=4,action_size=2)\n",
    "done = False"
   ]
  },
  {
   "cell_type": "code",
   "execution_count": null,
   "metadata": {},
   "outputs": [],
   "source": [
    "for e in range(n_episodes):\n",
    "    sate = env.reset()\n",
    "    state = np.reshape(stae,[1,state_size])\n",
    "    batch_size = 32\n",
    "    \n",
    "    for time in range(500):\n",
    "        env.render()\n",
    "        action = agent.act(state) # action is 0 or 1\n",
    "        next_state,reward,done,other_info = env.step(action)\n",
    "        rewards = reward if not done else -10\n",
    "        next_state = np.reshape(next_state,[1,state_size])\n",
    "        agent.remember(state,action,reward,next_state,done) # Experience for the agent\n",
    "        \n",
    "        if done:\n",
    "            print(\"Game Episode : {}/{} High Score :{} Exploration Rate:{:.2}\".format(e,20,t,agent.epsilon))\n",
    "            break\n",
    "        \n",
    "        if len(agent.memory)>batch_size:\n",
    "            agent.train(batch_size)\n",
    "    \n",
    "        if e%50==0:\n",
    "            agent.save(output_dir+\"weights_\"+'{:04d}'.format(e)+\".hdf5\")\n",
    "    \n",
    "print(\"Deep Q-Learner Model Trained\")\n",
    "env.close"
   ]
  },
  {
   "cell_type": "code",
   "execution_count": null,
   "metadata": {},
   "outputs": [],
   "source": [
    "# Built more games from Open AI Gym"
   ]
  },
  {
   "cell_type": "code",
   "execution_count": null,
   "metadata": {},
   "outputs": [],
   "source": []
  },
  {
   "cell_type": "code",
   "execution_count": null,
   "metadata": {},
   "outputs": [],
   "source": []
  },
  {
   "cell_type": "code",
   "execution_count": null,
   "metadata": {},
   "outputs": [],
   "source": []
  },
  {
   "cell_type": "code",
   "execution_count": null,
   "metadata": {},
   "outputs": [],
   "source": []
  },
  {
   "cell_type": "code",
   "execution_count": null,
   "metadata": {},
   "outputs": [],
   "source": []
  },
  {
   "cell_type": "code",
   "execution_count": null,
   "metadata": {},
   "outputs": [],
   "source": []
  },
  {
   "cell_type": "code",
   "execution_count": null,
   "metadata": {},
   "outputs": [],
   "source": []
  },
  {
   "cell_type": "code",
   "execution_count": null,
   "metadata": {},
   "outputs": [],
   "source": []
  },
  {
   "cell_type": "code",
   "execution_count": null,
   "metadata": {},
   "outputs": [],
   "source": []
  }
 ],
 "metadata": {
  "kernelspec": {
   "display_name": "Python 3",
   "language": "python",
   "name": "python3"
  },
  "language_info": {
   "codemirror_mode": {
    "name": "ipython",
    "version": 3
   },
   "file_extension": ".py",
   "mimetype": "text/x-python",
   "name": "python",
   "nbconvert_exporter": "python",
   "pygments_lexer": "ipython3",
   "version": "3.7.6"
  }
 },
 "nbformat": 4,
 "nbformat_minor": 4
}
